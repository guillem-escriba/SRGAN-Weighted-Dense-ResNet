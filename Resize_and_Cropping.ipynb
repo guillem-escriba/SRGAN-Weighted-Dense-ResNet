{
  "nbformat": 4,
  "nbformat_minor": 0,
  "metadata": {
    "colab": {
      "provenance": []
    },
    "kernelspec": {
      "name": "python3",
      "display_name": "Python 3"
    },
    "language_info": {
      "name": "python"
    }
  },
  "cells": [
    {
      "cell_type": "code",
      "execution_count": 1,
      "metadata": {
        "id": "HWLo_dvd7pqk"
      },
      "outputs": [],
      "source": [
        "from google.colab import drive\n",
        "from PIL import Image\n",
        "import os, sys\n",
        "import cv2\n",
        "import numpy as np\n",
        "import matplotlib.pyplot as plt\n",
        "import scipy.io as sio\n",
        "\n",
        "##Path with the original images to obtain LR images.\n",
        "LR_path = '/content/drive/My Drive/Curs 2022-2023/Deep Learning/FP/Data/images/train_DIV2K/Low Resolution/'\n",
        "##Path with the original images to obtain HR images.\n",
        "HR_path = '/content/drive/My Drive/Curs 2022-2023/Deep Learning/FP/Data/images/train_DIV2K/High Resolution/'\n",
        "##Path to save the images in LR.\n",
        "cropped_LR_path = '/content/drive/My Drive/Curs 2022-2023/Deep Learning/FP/Data/images/train_DIV2K/Low Resolution Results/'\n",
        "##Path to save the images in HR.\n",
        "cropped_HR_path = '/content/drive/My Drive/Curs 2022-2023/Deep Learning/FP/Data/images/train_DIV2K/High Resolution Results/'\n",
        "\n",
        "##Path to save the MAT file.\n",
        "mat_path = '/content/drive/My Drive/Curs 2022-2023/Deep Learning/FP/Mat/'\n",
        "\n",
        "\n",
        "def resize_image(max_width, max_height, input_path, output_path):\n",
        "    # Get the list of files in the input directory\n",
        "    files = os.listdir(input_path)\n",
        "\n",
        "    for file_name in files:\n",
        "        # Open the image file\n",
        "        image = Image.open(input_path + file_name)\n",
        "\n",
        "        # Get the current width and height of the image\n",
        "        width, height = image.size\n",
        "\n",
        "        # Calculate the scaling factor\n",
        "        scaling_factor = min(max_width/width, max_height/height)\n",
        "\n",
        "        # Scale the image while maintaining aspect ratio\n",
        "        image.thumbnail((width * scaling_factor, height * scaling_factor), Image.ANTIALIAS)\n",
        "\n",
        "        # Get the new dimensions of the image\n",
        "        width, height = image.size\n",
        "\n",
        "        # Calculate the coordinates for cropping the center of the image\n",
        "        left = (width - max_width) / 2\n",
        "        top = (height - max_height) / 2\n",
        "        right = (width + max_width) / 2\n",
        "        bottom = (height + max_height) / 2\n",
        "\n",
        "        # Crop the center of the image\n",
        "        image = image.crop((left, top, right, bottom))\n",
        "\n",
        "        # Generate the output file name\n",
        "        file_name, file_extension = os.path.splitext(file_name)\n",
        "        file_name = file_name + \".png\"\n",
        "\n",
        "        # Save the image to the output directory\n",
        "        image.save(output_path + file_name, 'PNG')\n",
        "\n",
        "\n",
        "def save_MAT(stop):\n",
        "    # Get the list of files in the X and y directories\n",
        "    dir_X = sorted(os.listdir(resultPath_X))\n",
        "    dir_y = sorted(os.listdir(resultPath_y))\n",
        "\n",
        "    boolean = True\n",
        "\n",
        "    # Merge the X and y directories\n",
        "    merged_dir = zip(dir_X, dir_y)\n",
        "\n",
        "    for i, (item_X, item_y) in enumerate(merged_dir):\n",
        "        # Read the X and y images\n",
        "        image_X = cv2.imread(resultPath_X + item_X)\n",
        "        image_y = cv2.imread(resultPath_y + item_y)\n",
        "\n",
        "        # Convert the images to RGB color space\n",
        "        image_X = cv2.cvtColor(image_X, cv2.COLOR_BGR2RGB)\n",
        "        image_y = cv2.cvtColor(image_y, cv2.COLOR_BGR2RGB)\n",
        "\n",
        "        # Expand dimensions to add a channel dimension\n",
        "        image_X = np.expand_dims(image_X, axis=3)\n",
        "        image_y = np.expand_dims(image_y, axis=3)\n",
        "\n",
        "        if boolean:\n",
        "            boolean = False\n",
        "            data = image_X\n",
        "            label = image_y\n",
        "        else:\n",
        "            # Concatenate the images along the channel dimension\n",
        "            data = np.concatenate((data, image_X), axis=3)\n",
        "            label = np.concatenate((label, image_y), axis=3)\n",
        "\n",
        "        # Break the loop when the specified stop condition is met\n",
        "        if i % stop == 0 and i != 0:\n",
        "            break\n",
        "\n",
        "    # Save the data and label arrays to a .mat file\n",
        "    sio.savemat(mat_path + 'dataset64to256.mat', {'X': data, 'y': label})"
      ]
    },
    {
      "cell_type": "code",
      "execution_count": null,
      "metadata": {
        "colab": {
          "base_uri": "https://localhost:8080/"
        },
        "id": "B4tg2hUhnaRt",
        "outputId": "f4b1f3e5-aa65-4ec6-af6b-c427534fa045"
      },
      "outputs": [
        {
          "output_type": "stream",
          "name": "stdout",
          "text": [
            "Creating .mat file at 0:27:51\n",
            "0.0% -- 0.008954048156738281 seconds\n",
            "Finished at 0:27:51\n"
          ]
        }
      ],
      "source": [
        "## 64x54 LR cropped images\n",
        "resize(64,64,LR_path, cropped_LR_path)\n",
        "\n",
        "## 256x256 HR cropped images\n",
        "resize(256,256,HR_path, cropped_HR_path)\n",
        "\n",
        "## Mat with the 800 images\n",
        "saveMAT(800)"
      ]
    }
  ]
}